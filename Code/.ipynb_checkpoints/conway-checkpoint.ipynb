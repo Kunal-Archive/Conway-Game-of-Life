{
 "cells": [
  {
   "cell_type": "code",
   "execution_count": 1,
   "id": "bef0bfd3-750f-462a-ab41-0eab95018869",
   "metadata": {},
   "outputs": [],
   "source": [
    "import numpy as np"
   ]
  },
  {
   "cell_type": "code",
   "execution_count": 2,
   "id": "31614319-982d-4c96-b065-7169fbdb4586",
   "metadata": {},
   "outputs": [],
   "source": [
    "import matplotlib.pyplot as plt"
   ]
  },
  {
   "cell_type": "code",
   "execution_count": 3,
   "id": "c4860f34-bbeb-4b23-bbbb-e611028acdc6",
   "metadata": {},
   "outputs": [],
   "source": [
    "import matplotlib.animation as animation"
   ]
  },
  {
   "cell_type": "markdown",
   "id": "af2a7154-ee4f-422f-915c-408e1a954a20",
   "metadata": {},
   "source": [
    "# Representing the Grid"
   ]
  },
  {
   "cell_type": "code",
   "execution_count": 18,
   "id": "474ea923-52fd-4d16-aa6a-d0d2a458ee5d",
   "metadata": {},
   "outputs": [
    {
     "data": {
      "image/png": "[encoded data removed]",
      "text/plain": [
       "<Figure size 432x288 with 1 Axes>"
      ]
     },
     "metadata": {
      "needs_background": "light"
     },
     "output_type": "display_data"
    }
   ],
   "source": [
    "x = np.array([\n",
    "    [0, 0, 255], \n",
    "    [255, 255, 0], \n",
    "    [0, 255, 0]\n",
    "])\n",
    "plt.imshow(x, interpolation = 'nearest')\n",
    "plt.show()"
   ]
  },
  {
   "cell_type": "code",
   "execution_count": 41,
   "id": "c935fa1e-4e06-4d73-83af-137563c011e8",
   "metadata": {},
   "outputs": [
    {
     "data": {
      "text/plain": [
       "array([[255,   0, 255,   0],\n",
       "       [  0,   0, 255,   0],\n",
       "       [255, 255,   0, 255],\n",
       "       [  0,   0,   0,   0]])"
      ]
     },
     "execution_count": 61,
     "metadata": {},
     "output_type": "execute_result"
    }
   ],
   "source": [
    "np.random.choice([0, 255], 4*4).reshape(4,4)"
   ]
  },
  {
   "cell_type": "code",
   "execution_count": null,
   "id": "a0485a15-0ff0-439b-bdaf-49d53fd6ca57",
   "metadata": {},
   "outputs": [],
   "source": []
  },
  {
   "cell_type": "code",
   "execution_count": null,
   "id": "55cc8ac6-6672-4b8e-bec6-87d0dff79313",
   "metadata": {},
   "outputs": [],
   "source": []
  }
 ],
 "metadata": {
  "kernelspec": {
   "display_name": "Python 3 (ipykernel)",
   "language": "python",
   "name": "python3"
  },
  "language_info": {
   "codemirror_mode": {
    "name": "ipython",
    "version": 3
   },
   "file_extension": ".py",
   "mimetype": "text/x-python",
   "name": "python",
   "nbconvert_exporter": "python",
   "pygments_lexer": "ipython3",
   "version": "3.9.7"
  }
 },
 "nbformat": 4,
 "nbformat_minor": 5
}
